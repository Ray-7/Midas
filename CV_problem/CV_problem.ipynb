{
  "nbformat": 4,
  "nbformat_minor": 0,
  "metadata": {
    "colab": {
      "name": "CV_problem.ipynb",
      "version": "0.3.2",
      "provenance": [],
      "collapsed_sections": []
    },
    "kernelspec": {
      "name": "python3",
      "display_name": "Python 3"
    },
    "accelerator": "GPU"
  },
  "cells": [
    {
      "metadata": {
        "id": "n8Z0tPe_6-NG",
        "colab_type": "text"
      },
      "cell_type": "markdown",
      "source": [
        "# Using Keras to solve muti-class image classification problem\n",
        "\n",
        "---\n",
        "\n",
        "**Importing necessary libraries**"
      ]
    },
    {
      "metadata": {
        "id": "Z13zHRTc7Tq7",
        "colab_type": "code",
        "colab": {}
      },
      "cell_type": "code",
      "source": [
        "import pandas as pd\n",
        "import pickle\n",
        "import numpy as np\n",
        "from keras.models import Sequential\n",
        "from keras.layers import Dense\n",
        "from keras.layers import Dropout\n",
        "from keras.layers import Flatten\n",
        "from keras.layers.convolutional import Conv2D\n",
        "from keras.layers import BatchNormalization\n",
        "from keras.layers.convolutional import MaxPooling2D\n",
        "from keras.utils import np_utils\n",
        "from keras.utils import plot_model\n",
        "from keras import backend as K\n",
        "from sklearn.model_selection import train_test_split\n",
        "from keras.layers import Dense, Conv2D, Activation, MaxPool2D, Flatten, Dropout, BatchNormalization"
      ],
      "execution_count": 0,
      "outputs": []
    },
    {
      "metadata": {
        "id": "Ll93OL7o7mHa",
        "colab_type": "text"
      },
      "cell_type": "markdown",
      "source": [
        "# Loading the dataset\n",
        "\n",
        "---\n",
        "\n"
      ]
    },
    {
      "metadata": {
        "id": "nqTs6nI-vfpQ",
        "colab_type": "code",
        "colab": {}
      },
      "cell_type": "code",
      "source": [
        "with open('train_image.pkl', 'rb') as f:\n",
        "    data = pickle.load(f)\n",
        "    data = np.array(data)\n",
        "    data = data.reshape(-1, 28, 28)"
      ],
      "execution_count": 0,
      "outputs": []
    },
    {
      "metadata": {
        "id": "F8eJxe_lw3Vm",
        "colab_type": "code",
        "colab": {}
      },
      "cell_type": "code",
      "source": [
        "with open('train_label.pkl', 'rb') as f:\n",
        "    label = pickle.load(f)\n",
        "    label = np.array(label)\n",
        "    label = label.reshape(-1, 1)"
      ],
      "execution_count": 0,
      "outputs": []
    },
    {
      "metadata": {
        "id": "nnTPTo6z7rBL",
        "colab_type": "text"
      },
      "cell_type": "markdown",
      "source": [
        "# Splitting the dataset into train and test sets\n",
        "\n",
        "---\n",
        "\n"
      ]
    },
    {
      "metadata": {
        "id": "i2td5oy2w6IB",
        "colab_type": "code",
        "colab": {}
      },
      "cell_type": "code",
      "source": [
        "data_train, data_test, label_train, label_test = train_test_split(data, label, test_size=0.20, random_state=42)"
      ],
      "execution_count": 0,
      "outputs": []
    },
    {
      "metadata": {
        "id": "L5T0PegX7zcj",
        "colab_type": "text"
      },
      "cell_type": "markdown",
      "source": [
        "# Visualizing the data\n",
        "\n",
        "---\n",
        "\n"
      ]
    },
    {
      "metadata": {
        "id": "0iH1gBbYw_Kw",
        "colab_type": "code",
        "colab": {
          "base_uri": "https://localhost:8080/",
          "height": 265
        },
        "outputId": "d11b84b9-c4eb-4035-b6d9-c35a35a16114"
      },
      "cell_type": "code",
      "source": [
        "%matplotlib inline\n",
        "from matplotlib import pyplot as plt\n",
        "plt.imshow(data[10], interpolation='nearest')\n",
        "plt.show()"
      ],
      "execution_count": 80,
      "outputs": [
        {
          "output_type": "display_data",
          "data": {
            "image/png": "[encoded data removed]",
            "text/plain": [
              "<Figure size 432x288 with 1 Axes>"
            ]
          },
          "metadata": {
            "tags": []
          }
        }
      ]
    },
    {
      "metadata": {
        "id": "Y9npTFn279CV",
        "colab_type": "text"
      },
      "cell_type": "markdown",
      "source": [
        "# Reshaping the data\n",
        "\n",
        "---\n",
        "\n"
      ]
    },
    {
      "metadata": {
        "id": "ankCZzCNxEf-",
        "colab_type": "code",
        "colab": {}
      },
      "cell_type": "code",
      "source": [
        "data_train = data_train.reshape(data_train.shape[0], 28, 28,1).astype('float32')\n",
        "data_test = data_test.reshape(data_test.shape[0], 28, 28,1).astype('float32')"
      ],
      "execution_count": 0,
      "outputs": []
    },
    {
      "metadata": {
        "id": "kp8i_1QaxKv6",
        "colab_type": "code",
        "colab": {
          "base_uri": "https://localhost:8080/",
          "height": 34
        },
        "outputId": "bff79ee5-a054-418c-a1d0-2236de004d99"
      },
      "cell_type": "code",
      "source": [
        "label_train = np_utils.to_categorical(label_train)\n",
        "label_test = np_utils.to_categorical(label_test)\n",
        "num_classes = label_test.shape[1]\n",
        "print(num_classes)"
      ],
      "execution_count": 58,
      "outputs": [
        {
          "output_type": "stream",
          "text": [
            "7\n"
          ],
          "name": "stdout"
        }
      ]
    },
    {
      "metadata": {
        "id": "A6sWXElc8O39",
        "colab_type": "text"
      },
      "cell_type": "markdown",
      "source": [
        "# Basic CNN model using Keras\n",
        "\n",
        "---\n",
        "\n",
        "1. 4 Convolutional layers\n",
        "2. 2 Maxpooling layers\n",
        "3. 2 Fully connected layers\n",
        "4. Optimizer used : Adam\n",
        "\n",
        "Dropout is added to avoid overfitting."
      ]
    },
    {
      "metadata": {
        "id": "VAgMJtc4xcrR",
        "colab_type": "code",
        "colab": {}
      },
      "cell_type": "code",
      "source": [
        "def cnn_model():\n",
        "    model = Sequential()\n",
        "    \n",
        "    #1. LAYER\n",
        "    model.add(Conv2D(filters = 32, kernel_size = (3,3), padding = 'Same', input_shape=(28, 28, 1)))\n",
        "    model.add(BatchNormalization())\n",
        "    model.add(Activation(\"relu\"))\n",
        "    model.add(Dropout(0.25))\n",
        "\n",
        "    #2. LAYER\n",
        "    model.add(Conv2D(filters = 32, kernel_size = (3,3), padding = 'Same'))\n",
        "    model.add(BatchNormalization())\n",
        "    model.add(Activation(\"relu\"))\n",
        "    model.add(MaxPooling2D(pool_size=(2, 2)))\n",
        "    model.add(Dropout(0.25))\n",
        "\n",
        "\n",
        "    #3. LAYER\n",
        "    model.add(Conv2D(filters = 64, kernel_size = (3,3), padding = 'Same'))\n",
        "    model.add(BatchNormalization())\n",
        "    model.add(Activation(\"relu\"))\n",
        "    model.add(Dropout(0.25))\n",
        "    \n",
        "    #4. LAYER\n",
        "    model.add(Conv2D(filters = 64, kernel_size = (3,3), padding = 'Same'))\n",
        "    model.add(BatchNormalization())\n",
        "    model.add(Activation(\"relu\"))\n",
        "    model.add(MaxPooling2D(pool_size=(2, 2)))\n",
        "    model.add(Dropout(0.25))\n",
        "    \n",
        "    #FULLY CONNECTED LAYER\n",
        "    model.add(Flatten())\n",
        "    model.add(Dense(128))\n",
        "    model.add(BatchNormalization())\n",
        "    model.add(Activation(\"relu\"))\n",
        "    model.add(Dropout(0.25))\n",
        "    \n",
        "    model.add(Dense(256))\n",
        "    model.add(BatchNormalization())\n",
        "    model.add(Activation(\"relu\"))\n",
        "    model.add(Dropout(0.5))\n",
        "    \n",
        "    #OUTPUT LAYER\n",
        "    model.add(Dense(7, activation='softmax'))\n",
        "\n",
        "    model.compile(loss='categorical_crossentropy', optimizer='Adam', metrics=['accuracy'])\n",
        "    \n",
        "    return model"
      ],
      "execution_count": 0,
      "outputs": []
    },
    {
      "metadata": {
        "id": "L0WfRqp_yfNv",
        "colab_type": "code",
        "colab": {
          "base_uri": "https://localhost:8080/",
          "height": 1071
        },
        "outputId": "e62bff80-7d8c-460c-b200-c5c23007700a"
      },
      "cell_type": "code",
      "source": [
        "model = cnn_model()\n",
        "history = model.fit(data_train, label_train, validation_data=(data_test, label_test), \\\n",
        "                    epochs=30, batch_size=32, verbose=2)\n",
        "scores = model.evaluate(data_test, label_test, verbose=0)\n",
        "print('CNN Error {}'.format(100-scores[1]*100))"
      ],
      "execution_count": 82,
      "outputs": [
        {
          "output_type": "stream",
          "text": [
            "Train on 6400 samples, validate on 1600 samples\n",
            "Epoch 1/30\n",
            " - 8s - loss: 0.9721 - acc: 0.6284 - val_loss: 0.6123 - val_acc: 0.7425\n",
            "Epoch 2/30\n",
            " - 4s - loss: 0.6147 - acc: 0.7547 - val_loss: 0.4646 - val_acc: 0.8106\n",
            "Epoch 3/30\n",
            " - 4s - loss: 0.5038 - acc: 0.8011 - val_loss: 0.4184 - val_acc: 0.8325\n",
            "Epoch 4/30\n",
            " - 4s - loss: 0.4731 - acc: 0.8169 - val_loss: 0.4451 - val_acc: 0.8194\n",
            "Epoch 5/30\n",
            " - 4s - loss: 0.4492 - acc: 0.8242 - val_loss: 0.4353 - val_acc: 0.8181\n",
            "Epoch 6/30\n",
            " - 4s - loss: 0.4143 - acc: 0.8394 - val_loss: 0.3887 - val_acc: 0.8387\n",
            "Epoch 7/30\n",
            " - 4s - loss: 0.4017 - acc: 0.8445 - val_loss: 0.3814 - val_acc: 0.8456\n",
            "Epoch 8/30\n",
            " - 4s - loss: 0.3847 - acc: 0.8509 - val_loss: 0.3653 - val_acc: 0.8562\n",
            "Epoch 9/30\n",
            " - 4s - loss: 0.3740 - acc: 0.8512 - val_loss: 0.3513 - val_acc: 0.8544\n",
            "Epoch 10/30\n",
            " - 4s - loss: 0.3512 - acc: 0.8639 - val_loss: 0.3611 - val_acc: 0.8588\n",
            "Epoch 11/30\n",
            " - 4s - loss: 0.3335 - acc: 0.8709 - val_loss: 0.3517 - val_acc: 0.8562\n",
            "Epoch 12/30\n",
            " - 4s - loss: 0.3269 - acc: 0.8709 - val_loss: 0.3468 - val_acc: 0.8638\n",
            "Epoch 13/30\n",
            " - 4s - loss: 0.3044 - acc: 0.8837 - val_loss: 0.3699 - val_acc: 0.8538\n",
            "Epoch 14/30\n",
            " - 4s - loss: 0.3098 - acc: 0.8766 - val_loss: 0.3414 - val_acc: 0.8706\n",
            "Epoch 15/30\n",
            " - 4s - loss: 0.3043 - acc: 0.8828 - val_loss: 0.3582 - val_acc: 0.8569\n",
            "Epoch 16/30\n",
            " - 4s - loss: 0.2808 - acc: 0.8878 - val_loss: 0.3109 - val_acc: 0.8744\n",
            "Epoch 17/30\n",
            " - 4s - loss: 0.2756 - acc: 0.8927 - val_loss: 0.3293 - val_acc: 0.8775\n",
            "Epoch 18/30\n",
            " - 4s - loss: 0.2631 - acc: 0.8944 - val_loss: 0.3921 - val_acc: 0.8556\n",
            "Epoch 19/30\n",
            " - 4s - loss: 0.2687 - acc: 0.8950 - val_loss: 0.3326 - val_acc: 0.8825\n",
            "Epoch 20/30\n",
            " - 4s - loss: 0.2541 - acc: 0.8998 - val_loss: 0.3571 - val_acc: 0.8650\n",
            "Epoch 21/30\n",
            " - 4s - loss: 0.2348 - acc: 0.9055 - val_loss: 0.3024 - val_acc: 0.8794\n",
            "Epoch 22/30\n",
            " - 4s - loss: 0.2322 - acc: 0.9116 - val_loss: 0.3454 - val_acc: 0.8719\n",
            "Epoch 23/30\n",
            " - 4s - loss: 0.2230 - acc: 0.9125 - val_loss: 0.3319 - val_acc: 0.8719\n",
            "Epoch 24/30\n",
            " - 4s - loss: 0.2264 - acc: 0.9127 - val_loss: 0.3337 - val_acc: 0.8706\n",
            "Epoch 25/30\n",
            " - 4s - loss: 0.2171 - acc: 0.9167 - val_loss: 0.3513 - val_acc: 0.8838\n",
            "Epoch 26/30\n",
            " - 4s - loss: 0.2132 - acc: 0.9167 - val_loss: 0.3365 - val_acc: 0.8769\n",
            "Epoch 27/30\n",
            " - 4s - loss: 0.2094 - acc: 0.9170 - val_loss: 0.3299 - val_acc: 0.8769\n",
            "Epoch 28/30\n",
            " - 4s - loss: 0.1939 - acc: 0.9228 - val_loss: 0.3200 - val_acc: 0.8694\n",
            "Epoch 29/30\n",
            " - 4s - loss: 0.1874 - acc: 0.9244 - val_loss: 0.3046 - val_acc: 0.8862\n",
            "Epoch 30/30\n",
            " - 4s - loss: 0.1894 - acc: 0.9292 - val_loss: 0.3518 - val_acc: 0.8788\n",
            "CNN Error 12.125\n"
          ],
          "name": "stdout"
        }
      ]
    },
    {
      "metadata": {
        "id": "gNAVb3_k-ota",
        "colab_type": "text"
      },
      "cell_type": "markdown",
      "source": [
        "# Visualizing the loss and accuracy curves\n",
        "\n",
        "---\n",
        "\n"
      ]
    },
    {
      "metadata": {
        "id": "PAATwzKfyq-B",
        "colab_type": "code",
        "colab": {
          "base_uri": "https://localhost:8080/",
          "height": 370
        },
        "outputId": "7e6dbb77-1a26-4fdb-f5e0-f7bd65ef5594"
      },
      "cell_type": "code",
      "source": [
        "plt.figure(figsize=(14,5))\n",
        "plt.subplot(1, 2, 1)\n",
        "plt.suptitle('Train Results', fontsize=10)\n",
        "plt.xlabel(\"Number of Epochs\")\n",
        "plt.ylabel('Loss', fontsize=16)\n",
        "plt.plot(history.history['loss'], color='b', label='Training Loss')\n",
        "plt.plot(history.history['val_loss'], color='r', label='Validation Loss')\n",
        "plt.legend(loc='upper right')\n",
        "\n",
        "plt.subplot(1, 2, 2)\n",
        "plt.ylabel('Accuracy', fontsize=16)\n",
        "plt.plot(history.history['acc'], color='green', label='Training Accuracy')\n",
        "plt.plot(history.history['val_acc'], color='orange', label='Validation Accuracy')\n",
        "plt.legend(loc='lower right')\n",
        "plt.show()"
      ],
      "execution_count": 83,
      "outputs": [
        {
          "output_type": "display_data",
          "data": {
            "image/png": "[encoded data removed]",
            "text/plain": [
              "<Figure size 1008x360 with 2 Axes>"
            ]
          },
          "metadata": {
            "tags": []
          }
        }
      ]
    },
    {
      "metadata": {
        "id": "rmsf4EO1-x0M",
        "colab_type": "text"
      },
      "cell_type": "markdown",
      "source": [
        "# Testing the model\n",
        "\n",
        "---\n",
        "\n"
      ]
    },
    {
      "metadata": {
        "id": "qz-D-s5q-hvi",
        "colab_type": "code",
        "colab": {}
      },
      "cell_type": "code",
      "source": [
        "with open('test_image.pkl', 'rb') as f:\n",
        "    test_data = pickle.load(f)\n",
        "    test_data = np.array(test_data)\n",
        "    test_data = test_data.reshape(-1, 28, 28,1)"
      ],
      "execution_count": 0,
      "outputs": []
    },
    {
      "metadata": {
        "id": "yfWlkL67_ekT",
        "colab_type": "text"
      },
      "cell_type": "markdown",
      "source": [
        "# Saving the prediction into a CSV file\n",
        "\n",
        "---\n",
        "\n"
      ]
    },
    {
      "metadata": {
        "id": "SXRiHNZT-_Zl",
        "colab_type": "code",
        "colab": {}
      },
      "cell_type": "code",
      "source": [
        "predictions = model.predict(test_data)\n",
        "predictions = np.argmax(predictions, axis=1)\n",
        "predictions = pd.Series(predictions, name=\"Class\")\n",
        "submit = pd.concat([pd.Series(range(2000), name=\"Image_index\"), predictions], axis=1)\n",
        "submit.to_csv(\"Rishav_Ray.csv\", index=False)"
      ],
      "execution_count": 0,
      "outputs": []
    },
    {
      "metadata": {
        "id": "UIBfokc2_RbE",
        "colab_type": "code",
        "colab": {}
      },
      "cell_type": "code",
      "source": [
        ""
      ],
      "execution_count": 0,
      "outputs": []
    }
  ]
}